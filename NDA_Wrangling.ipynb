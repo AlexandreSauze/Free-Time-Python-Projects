{
  "nbformat": 4,
  "nbformat_minor": 0,
  "metadata": {
    "colab": {
      "provenance": [],
      "authorship_tag": "ABX9TyPw7Q878NgmID0/4AehbUVX",
      "include_colab_link": true
    },
    "kernelspec": {
      "name": "python3",
      "display_name": "Python 3"
    },
    "language_info": {
      "name": "python"
    }
  },
  "cells": [
    {
      "cell_type": "markdown",
      "metadata": {
        "id": "view-in-github",
        "colab_type": "text"
      },
      "source": [
        "<a href=\"https://colab.research.google.com/github/AlexandreSauze/Free-Time-Python-Projects/blob/main/NDA_Wrangling.ipynb\" target=\"_parent\"><img src=\"https://colab.research.google.com/assets/colab-badge.svg\" alt=\"Open In Colab\"/></a>"
      ]
    },
    {
      "cell_type": "code",
      "execution_count": null,
      "metadata": {
        "id": "uecrVqZqdybD"
      },
      "outputs": [],
      "source": [
        "import pandas as pd #Data Frames\n",
        "import numpy as np #Statistics\n",
        "import matplotlib as plt #Plots\n",
        "from difflib import SequenceMatcher"
      ]
    },
    {
      "cell_type": "code",
      "source": [
        "Excel = pd.ExcelFile('') #import csv to pandas\n",
        "df1 = pd.read_excel(Excel, '')\n",
        "df2 = pd.read_excel(Excel, '')\n",
        "df3 = pd.read_excel(Excel, '')"
      ],
      "metadata": {
        "id": "8P0PDgvedzzP"
      },
      "execution_count": null,
      "outputs": []
    },
    {
      "cell_type": "code",
      "source": [
        "print(df2.head())\n",
        "# print('***Number of NAs:***\\n', df2.isna().sum(), '\\n \\n')\n",
        "# print('***Number of blanks:***\\n', df2.isnull().sum(), '\\n \\n')"
      ],
      "metadata": {
        "id": "VKYRfrP_d7Rk"
      },
      "execution_count": null,
      "outputs": []
    },
    {
      "cell_type": "code",
      "source": [
        "#Drop all rows in list with blanks or NaNs in the selected columns\n",
        "df21 = df2.drop(list(np.flatnonzero(df2[''].isna() & df2[''].isna()))).copy()"
      ],
      "metadata": {
        "id": "PH6lw7mGMlyO"
      },
      "execution_count": null,
      "outputs": []
    },
    {
      "cell_type": "code",
      "source": [
        "#Make sure index goes from 0 to n-1\n",
        "df21.reset_index(inplace = True)\n",
        "\n",
        "#Create a new column to include the 2 different types of IDs\n",
        "IDP = []\n",
        "df22 = df21.copy()\n",
        "df22[['','']] = df22[['','']].fillna('')\n",
        "\n",
        "for i in df22.index.tolist():\n",
        "  if (df22[''][i] != '') & (df22[''][i] != ''):\n",
        "    IDP.append(df22[''][i])\n",
        "  else:\n",
        "    if df22[''][i] != '':\n",
        "      IDP.append(df22[''][i])\n",
        "    else:\n",
        "      IDP.append(df22[''][i])\n",
        "\n",
        "df22.insert(5,'', IDP)"
      ],
      "metadata": {
        "id": "d2S8sdct7PQl"
      },
      "execution_count": null,
      "outputs": []
    },
    {
      "cell_type": "code",
      "source": [
        "#Create a new column to include the name of the company\n",
        "NP = []\n",
        "\n",
        "for i in df22.index.tolist():\n",
        "  if (df22[''][i] != '') & (df22[''][i] != ''):\n",
        "    NP.append(df22[''][i])\n",
        "  else:\n",
        "    if df22[''][i] != '':\n",
        "      NP.append(df22[''][i])\n",
        "    else:\n",
        "      NP.append(df22[''][i])\n",
        "\n",
        "df22.insert(6,'', NP)"
      ],
      "metadata": {
        "id": "WM4DeSvCNf-h"
      },
      "execution_count": null,
      "outputs": []
    },
    {
      "cell_type": "code",
      "source": [
        "#Update the nationality column to fill blank spaces with 'México'\n",
        "df22.NACIONALIDAD = df22[''].fillna('')\n",
        "df22.PAIS = df22[''].fillna('')"
      ],
      "metadata": {
        "id": "WSPf8FtbPm8g"
      },
      "execution_count": null,
      "outputs": []
    },
    {
      "cell_type": "code",
      "source": [
        "#Create column with the name of the client using the id and the first sheet of the excel\n",
        "\n",
        "#Now on with the new column\n",
        "d11 = {}\n",
        "for i in df1.index.tolist():\n",
        "  d11.update({df1[''][i]:df1[''][i]}) #Create a dictionary using the client's ID as key and the name as value\n",
        "\n",
        "NC = []\n",
        "tf = True\n",
        "for i in df22[':']:\n",
        "  NC.append(d11[i])\n",
        "\n",
        "df22.insert(1, '', NC)"
      ],
      "metadata": {
        "id": "my3775ikRs7R"
      },
      "execution_count": null,
      "outputs": []
    },
    {
      "cell_type": "code",
      "source": [
        "def Possible_Misspelled_Words(List, show = True, replace = False, per = 0.5):\n",
        "  AW = {} #The \"All words/sentences\" dictionary\n",
        "  AWS = {} #The \"All words/sentences with Similarities\" dictionary\n",
        "  AI = {} #The \"Already included\" dictionary\n",
        "  cc = 1\n",
        "  for i in List:\n",
        "    if (i not in AW) & (len(AW) >= 1):\n",
        "      temp = {}\n",
        "      for j in AW:\n",
        "        if j[0:3] == i[0:3]:\n",
        "          s = SequenceMatcher(None, i, j)\n",
        "          ratio = s.ratio()\n",
        "          if ((ratio != 1) & (ratio >= per)):\n",
        "            AW[j].update({i:round(ratio,2)})\n",
        "            AI.update({i:j})\n",
        "            if j in AWS:\n",
        "              if {i:round(ratio,2)} not in AWS[j]:\n",
        "                AWS[j].append({i:round(ratio,2)})\n",
        "            else:\n",
        "              AWS.update({j:[cc,{i:round(ratio,2)}]})\n",
        "              cc += 1\n",
        "          elif (ratio <= per) & (i not in AI):\n",
        "            temp.update({i:{}})\n",
        "      if i not in AI:\n",
        "        temp.update({i:{}})\n",
        "      AW.update(temp)\n",
        "    elif (len(AW) == 0):\n",
        "      AW.update({i:{}})\n",
        "\n",
        "  if show:\n",
        "    if len(AWS) >= 1:\n",
        "      print('***Similarity between words or sentences:*** \\n')\n",
        "      for i in AWS:\n",
        "        print(str(AWS[i][0]) + '.', i + ':')\n",
        "        tf = True\n",
        "        for j in AWS[i]:\n",
        "          if tf:\n",
        "            tf = False\n",
        "            cc = 1\n",
        "          else:\n",
        "            print(list(j.keys())[0], '---', str(AWS[i][cc][list(j.keys())[0]]*100) + '%')\n",
        "            cc += 1\n",
        "        print('\\n')\n",
        "    else:\n",
        "      print('There are no repeated words.')\n",
        "\n",
        "  if replace:\n",
        "    L1 = List.copy()\n",
        "    for i in AI:\n",
        "      cc = 0\n",
        "      for j in List:\n",
        "        if i == j:\n",
        "          L1[cc] = AI[i]\n",
        "        cc += 1\n",
        "    return L1"
      ],
      "metadata": {
        "id": "V-asEn3QgC0B"
      },
      "execution_count": null,
      "outputs": []
    },
    {
      "cell_type": "code",
      "source": [
        "Possible_Misspelled_Words(df22[''], show = True, replace = False, per = 0.97)"
      ],
      "metadata": {
        "id": "6n8QhADloHTf",
        "outputId": "ad124cbd-e432-4ff2-e12b-b1b10aac1d3f",
        "colab": {
          "base_uri": "https://localhost:8080/"
        }
      },
      "execution_count": null,
      "outputs": [
        {
          "output_type": "stream",
          "name": "stdout",
          "text": [
            "There are no repeated words.\n"
          ]
        }
      ]
    },
    {
      "cell_type": "code",
      "source": [
        "df22['']= Possible_Misspelled_Words(df22[''], show = False, replace = True, per = 0.97)"
      ],
      "metadata": {
        "id": "_TkCRDlvl7-I"
      },
      "execution_count": null,
      "outputs": []
    },
    {
      "cell_type": "code",
      "source": [
        "df23.to_csv('', sep=',', index=False, encoding='utf-8')"
      ],
      "metadata": {
        "id": "l3sDNKX9eCue"
      },
      "execution_count": null,
      "outputs": []
    }
  ]
}